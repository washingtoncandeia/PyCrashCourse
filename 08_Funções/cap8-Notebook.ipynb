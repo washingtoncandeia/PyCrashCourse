{
 "cells": [
  {
   "cell_type": "markdown",
   "metadata": {},
   "source": [
    "# Cap. 8-Funções"
   ]
  },
  {
   "cell_type": "markdown",
   "metadata": {},
   "source": [
    "### Faça você mesmo, p.207"
   ]
  },
  {
   "cell_type": "code",
   "execution_count": 1,
   "metadata": {},
   "outputs": [],
   "source": [
    "# 8.9 - Mágicos\n",
    "def show_magicians(magicians):\n",
    "    \"\"\"Exibe o nome em uma lista de mágicos.\"\"\"\n",
    "    for magician in magicians:\n",
    "        print(magician)"
   ]
  },
  {
   "cell_type": "code",
   "execution_count": 2,
   "metadata": {},
   "outputs": [
    {
     "name": "stdout",
     "output_type": "stream",
     "text": [
      "david blaine\n",
      "chris angel\n",
      "houdini\n",
      "david copperfield\n"
     ]
    }
   ],
   "source": [
    "magicos = ['david blaine', 'chris angel', 'houdini', 'david copperfield']\n",
    "\n",
    "show_magicians(magicos)"
   ]
  },
  {
   "cell_type": "code",
   "execution_count": 29,
   "metadata": {},
   "outputs": [],
   "source": [
    "# 8.10 - Grandes mágicos\n",
    "def make_great(magicians):\n",
    "    \"\"\"Adiciona 'O Grande' ao nome dos mágicos.\"\"\"\n",
    "    # Criar uma lista vazia para facilitar a transferência\n",
    "    temp_mag = []\n",
    "    \n",
    "    # Começar a transferência retirando cada mágico da lista original, com pop\n",
    "    while magicians:\n",
    "        magician = magicians.pop()\n",
    "        \n",
    "        # Em seguida, transferir para temp_mag\n",
    "        temp_mag.append('O Grande ' + magician)\n",
    "    \n",
    "    # Agora, iniciar outro loop, para transferir de temp_mag, para a lista original\n",
    "    for magician in temp_mag:\n",
    "        magicians.append(magician)\n"
   ]
  },
  {
   "cell_type": "code",
   "execution_count": 30,
   "metadata": {},
   "outputs": [],
   "source": [
    "# Teste\n",
    "magicos = ['david blaine', 'chris angel', 'houdini', 'david copperfield']\n",
    "make_great(magicos)"
   ]
  },
  {
   "cell_type": "code",
   "execution_count": 31,
   "metadata": {},
   "outputs": [
    {
     "name": "stdout",
     "output_type": "stream",
     "text": [
      "O Grande david copperfield\n",
      "O Grande houdini\n",
      "O Grande chris angel\n",
      "O Grande david blaine\n"
     ]
    }
   ],
   "source": [
    "show_magicians(magicos)"
   ]
  },
  {
   "cell_type": "code",
   "execution_count": 32,
   "metadata": {},
   "outputs": [],
   "source": [
    "# 8.11 - Mágicos inalterados\n",
    "\n",
    "def make_great(magicians):\n",
    "    \"\"\"Adiciona 'O Grande' ao nome dos mágicos.\"\"\"\n",
    "    # Criar uma lista vazia para facilitar a transferência\n",
    "    temp_mag = []\n",
    "    \n",
    "    # Começar a transferência retirando cada mágico da lista original, com pop\n",
    "    while magicians:\n",
    "        magician = magicians.pop()\n",
    "        \n",
    "        # Em seguida, transferir para temp_mag\n",
    "        temp_mag.append('O Grande ' + magician)\n",
    "    \n",
    "    # Agora, iniciar outro loop, para transferir de temp_mag, para a lista original\n",
    "    for magician in temp_mag:\n",
    "        magicians.append(magician)\n",
    "        \n",
    "    return magicians\n"
   ]
  },
  {
   "cell_type": "code",
   "execution_count": 33,
   "metadata": {},
   "outputs": [
    {
     "name": "stdout",
     "output_type": "stream",
     "text": [
      "O Grande david copperfield\n",
      "O Grande houdini\n",
      "O Grande chris angel\n",
      "O Grande david blaine\n"
     ]
    }
   ],
   "source": [
    "magicos = ['david blaine', 'chris angel', 'houdini', 'david copperfield']\n",
    "\n",
    "mag_inalterados = make_great(magicos[:])\n",
    "show_magicians(mag_inalterados)"
   ]
  },
  {
   "cell_type": "code",
   "execution_count": 34,
   "metadata": {},
   "outputs": [
    {
     "name": "stdout",
     "output_type": "stream",
     "text": [
      "david blaine\n",
      "chris angel\n",
      "houdini\n",
      "david copperfield\n"
     ]
    }
   ],
   "source": [
    "show_magicians(magicos)"
   ]
  },
  {
   "cell_type": "markdown",
   "metadata": {},
   "source": [
    "### Passando um número arbitrário de argumentos\n",
    "\n",
    "Quantos **argumentos** a função deve aceitar?  \n",
    "Nem sempre será possível saber. Por isso, ao construir uma função é possível criar um parâmetro que aceite números arbitrários de argumentos. Para isso, é só usar asterisco (*).  \n",
    "\n",
    "O que Python faz é criar uma **tupla** onde se armazenarão os argumentos."
   ]
  },
  {
   "cell_type": "code",
   "execution_count": 35,
   "metadata": {},
   "outputs": [],
   "source": [
    "# pizza.py, p.207 - 208\n",
    "def make_pizza(*toppings):\n",
    "    \"\"\"Adicionar ingredientes à pizza.\"\"\"\n",
    "    print(toppings)"
   ]
  },
  {
   "cell_type": "code",
   "execution_count": 36,
   "metadata": {},
   "outputs": [
    {
     "name": "stdout",
     "output_type": "stream",
     "text": [
      "('mussarela', 'calabresa', 'lombinnho')\n"
     ]
    }
   ],
   "source": [
    "make_pizza('mussarela', 'calabresa', 'lombinnho')"
   ]
  },
  {
   "cell_type": "markdown",
   "metadata": {},
   "source": [
    "Para ficar mais elegante, é possível criar um laço que percorrerá os argumentos da função e a lista de igredientes será descrita:  "
   ]
  },
  {
   "cell_type": "code",
   "execution_count": 39,
   "metadata": {},
   "outputs": [],
   "source": [
    "def make_pizza(*toppings):\n",
    "    \"\"\"Adicionar ingredientes à pizza.\"\"\"\n",
    "    for topping in toppings:\n",
    "        print('- ' + topping)"
   ]
  },
  {
   "cell_type": "code",
   "execution_count": 40,
   "metadata": {},
   "outputs": [
    {
     "name": "stdout",
     "output_type": "stream",
     "text": [
      "- calabresa\n",
      "- pepperoni\n",
      "- parmesão\n",
      "- lombinho\n",
      "- mussarela\n"
     ]
    }
   ],
   "source": [
    "make_pizza('calabresa', 'pepperoni', 'parmesão', 'lombinho', 'mussarela')"
   ]
  },
  {
   "cell_type": "markdown",
   "metadata": {},
   "source": [
    "### Misturando argumentos posicionais e arbitrários\n",
    "\n",
    "Ao se colocar vários parâmetros na função, aquele que aceita um número arbitrário deverá vir por último.  "
   ]
  },
  {
   "cell_type": "code",
   "execution_count": 41,
   "metadata": {},
   "outputs": [],
   "source": [
    "# Modificar a função make_pizza para aceitar um argumento com tamanho da pizza\n",
    "def make_pizza(size, *toppings):\n",
    "    \"\"\"Apresenta a pizza que estamos prestes a preparar.\"\"\"\n",
    "    print('\\nFazendo uma pizza com o tamanho ' + str(size)\n",
    "         + ' com os seguintes ingredientes: ')\n",
    "    \n",
    "    for topping in toppings:\n",
    "        print('- ' + topping)"
   ]
  },
  {
   "cell_type": "code",
   "execution_count": 44,
   "metadata": {},
   "outputs": [
    {
     "name": "stdout",
     "output_type": "stream",
     "text": [
      "\n",
      "Fazendo uma pizza com o tamanho 16 com os seguintes ingredientes: \n",
      "- lombinho\n",
      "- mussarela\n",
      "- calabresa\n",
      "- parmesão\n"
     ]
    }
   ],
   "source": [
    "make_pizza(16, 'lombinho', 'mussarela', 'calabresa', 'parmesão')"
   ]
  },
  {
   "cell_type": "markdown",
   "metadata": {},
   "source": [
    "### Usando argumentos nomeados arbitrários\n",
    "Aceitar um número arbitrário de argumentos, porém, os mesmos serão **_keyword arguments_** (argumentos nomeados).\n",
    "\n",
    "> Lembre que no caso de argumentos arbitrários, com um único asterisco, é criada uma **tupla** que armazena os argumentos. No caso de argumentos arbitrários que serão nomeados, Python cria um **dicionário** de pares chave-valor.  \n",
    "\n",
    "É por isso que o exemplo a seguir é importante, pois utiliza a construção de um dicionário contendo informações acerca de um determinado usuário. "
   ]
  },
  {
   "cell_type": "code",
   "execution_count": 45,
   "metadata": {},
   "outputs": [],
   "source": [
    "def build_profile(first, last, **user_info):\n",
    "    \"\"\"Cria um dicinário contendo tudo o que sabemos sobre um usuário.\"\"\"\n",
    "    \n",
    "    profile = {}\n",
    "    profile['primeiro nome'] = first\n",
    "    profile['sobrenome'] = last\n",
    "    \n",
    "    # Lembre que **user_info serve como um dicinário\n",
    "    for key, value in user_info.items():\n",
    "        profile[key] = value\n",
    "    \n",
    "    return profile"
   ]
  },
  {
   "cell_type": "code",
   "execution_count": 46,
   "metadata": {},
   "outputs": [],
   "source": [
    "leia = build_profile('leia', 'skywalker', \n",
    "             profissão = 'Rebelde',\n",
    "             local = 'Galáxia')"
   ]
  },
  {
   "cell_type": "code",
   "execution_count": 47,
   "metadata": {},
   "outputs": [
    {
     "name": "stdout",
     "output_type": "stream",
     "text": [
      "{'primeiro nome': 'leia', 'sobrenome': 'skywalker', 'profissão': 'Rebelde', 'local': 'Galáxia'}\n"
     ]
    }
   ],
   "source": [
    "print(leia)"
   ]
  },
  {
   "cell_type": "code",
   "execution_count": 48,
   "metadata": {},
   "outputs": [],
   "source": [
    "# 8.14 - Carros\n",
    "def make_car(fabricante, modelo, **info_adicionais):\n",
    "    \"\"\"Informações sobre um carro.\"\"\"\n",
    "    carro = {}\n",
    "    carro['Fabricante'] = fabricante\n",
    "    carro['Modelo'] = modelo\n",
    "    \n",
    "    for chave, valor in info_adicionais.items():\n",
    "        carro[chave] = valor\n",
    "    \n",
    "    return carro"
   ]
  },
  {
   "cell_type": "code",
   "execution_count": 49,
   "metadata": {},
   "outputs": [],
   "source": [
    "carro = make_car('Ford', 'GT',\n",
    "                 Constituição = 'Fibra de carbono',\n",
    "                 Rodas = 'Alumínio',\n",
    "                 Motor = '600HP')"
   ]
  },
  {
   "cell_type": "code",
   "execution_count": 50,
   "metadata": {},
   "outputs": [
    {
     "name": "stdout",
     "output_type": "stream",
     "text": [
      "{'Fabricante': 'Ford', 'Modelo': 'GT', 'Constituição': 'Fibra de carbono', 'Rodas': 'Alumínio', 'Motor': '600HP'}\n"
     ]
    }
   ],
   "source": [
    "print(carro)"
   ]
  },
  {
   "cell_type": "markdown",
   "metadata": {},
   "source": [
    "### Armazenando funções em módulos\n",
    "\n",
    "Os módulos são arquivos Python em que funções específicas são armazenadas, sendo possível importá-la em outro arquivo, isto é, em outro programa que se esteja trabalhando. Para isso, basta que o arquivo separado contendo o código da função (ou seja, o módulo) seja **chamado** dentro de seu programa. Na verdade, o termo correto é **importar**.  \n",
    "\n",
    "> Para que seja possível importar o módulo dentro do código do programa em que se está trabalhando, este último deve estar no mesmo diretório daquele. Ou, todos devem estar em uma mesma árvore de códigos ou PATH.\n",
    "\n",
    "Desta forma, há maneiras corretas de **importar** os módulos."
   ]
  },
  {
   "cell_type": "markdown",
   "metadata": {},
   "source": [
    "# Curso Intensivo de Python\n",
    "## Uma Introdução Prática Baseada em Projetos à Programação\n",
    "### Autor: Eric Matthes\n",
    "\n",
    "Este repositório tem por fim armazenar os códigos gerados no estudo de programação com Python utilizando este livro.\n",
    "\n",
    "O livro apresenta uma abordagem interessante à programação com Python, podendo ser utilizado mesmo por iniciantes em programação.   \n",
    "\n",
    "Há muitas seções onde é possível praticar fazendo exercícios (estas seções são chamadas de **Faça Você Mesmo**), sendo os códigos gerados \n",
    "\n",
    "Matthes, Eric. [Curso Intensivo de Python. Uma introdução Prática Baseadas em Projetos à Programação](https://novatec.com.br/livros/curso-intensivo-python/). Editora Novatec, 2016.  \n",
    "ISBN: 978-85-7522-503-5\n",
    "\n",
    "Informações na Editora [No Starch Press](https://www.nostarch.com/pythoncrashcourse).  \n",
    "Recursos fornecidos pelo autor do livro podem ser baixados [aqui](https://ehmatthes.github.io/pcc/index.html)."
   ]
  }
 ],
 "metadata": {
  "kernelspec": {
   "display_name": "Python 3",
   "language": "python",
   "name": "python3"
  },
  "language_info": {
   "codemirror_mode": {
    "name": "ipython",
    "version": 3
   },
   "file_extension": ".py",
   "mimetype": "text/x-python",
   "name": "python",
   "nbconvert_exporter": "python",
   "pygments_lexer": "ipython3",
   "version": "3.6.4"
  }
 },
 "nbformat": 4,
 "nbformat_minor": 2
}
