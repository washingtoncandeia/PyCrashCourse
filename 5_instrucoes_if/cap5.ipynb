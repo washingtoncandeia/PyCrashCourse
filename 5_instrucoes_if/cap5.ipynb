{
 "cells": [
  {
   "cell_type": "code",
   "execution_count": 1,
   "metadata": {},
   "outputs": [
    {
     "name": "stdout",
     "output_type": "stream",
     "text": [
      "Adicionando o ingrediente mushrooms.\n",
      "Adicionando o ingrediente green peppers.\n",
      "Adicionando o ingrediente extra cheese.\n"
     ]
    }
   ],
   "source": [
    "requested_toppings = ['mushrooms', 'green peppers', 'extra cheese']\n",
    "\n",
    "for requested in requested_toppings:\n",
    "    print('Adicionando o ingrediente ' + requested + '.')"
   ]
  },
  {
   "cell_type": "code",
   "execution_count": 5,
   "metadata": {},
   "outputs": [
    {
     "name": "stdout",
     "output_type": "stream",
     "text": [
      "\n",
      "\t=== Desculpe, ingrediente mushrooms faltando. ===\n",
      "\n",
      "Adicionando o ingrediente green peppers.\n",
      "Adicionando o ingrediente extra cheese.\n"
     ]
    }
   ],
   "source": [
    "for requested in requested_toppings:\n",
    "    if requested == 'mushrooms':\n",
    "        print('\\n\\t=== Desculpe, ingrediente ' + requested + ' faltando. ===\\n')\n",
    "    else:\n",
    "        print('Adicionando o ingrediente ' + requested + '.')"
   ]
  },
  {
   "cell_type": "code",
   "execution_count": 6,
   "metadata": {},
   "outputs": [
    {
     "name": "stdout",
     "output_type": "stream",
     "text": [
      "O ingrediente mushroom está faltando.\n",
      "O ingrediente mushroom está faltando.\n",
      "O ingrediente mushroom está faltando.\n"
     ]
    }
   ],
   "source": [
    "for requested in requested_toppings:\n",
    "    if 'mushrooms' in requested_toppings:\n",
    "        print('O ingrediente mushroom está faltando.')\n",
    "    else:\n",
    "        print('Adicionando o ingrediente ' + requested + '.')"
   ]
  },
  {
   "cell_type": "code",
   "execution_count": 7,
   "metadata": {},
   "outputs": [
    {
     "name": "stdout",
     "output_type": "stream",
     "text": [
      "Adicionando o ingrediente mushrooms.\n",
      "Mushrooms está em falta!\n",
      "Adicionando o ingrediente green peppers.\n",
      "Mushrooms está em falta!\n",
      "Adicionando o ingrediente extra cheese.\n",
      "Mushrooms está em falta!\n"
     ]
    }
   ],
   "source": [
    "for requested in requested_toppings:\n",
    "    print('Adicionando o ingrediente ' + requested + '.')\n",
    "    \n",
    "    if 'mushrooms':\n",
    "        print('Mushrooms está em falta!')"
   ]
  },
  {
   "cell_type": "code",
   "execution_count": 9,
   "metadata": {},
   "outputs": [
    {
     "name": "stdout",
     "output_type": "stream",
     "text": [
      "Adicionando mushrooms.\n",
      "Desculpe, não temos green peppers.\n",
      "Adicionando extra cheese.\n"
     ]
    }
   ],
   "source": [
    "if requested_toppings:\n",
    "    for requested_topping in requested_toppings:\n",
    "        if requested_topping == 'green peppers':\n",
    "            print('Desculpe, não temos green peppers.')\n",
    "        else:\n",
    "            print('Adicionando ' + requested_topping + '.')"
   ]
  },
  {
   "cell_type": "code",
   "execution_count": 11,
   "metadata": {},
   "outputs": [
    {
     "name": "stdout",
     "output_type": "stream",
     "text": [
      "Tem certeza de que quer uma pizza?\n"
     ]
    }
   ],
   "source": [
    "# lista vazia\n",
    "requested_toppings = []\n",
    "\n",
    "if requested_toppings:\n",
    "    for request in requested_toppings:\n",
    "        if request == 'green peppers':\n",
    "            print('Desculpe, green peppers in falta.')\n",
    "        else:\n",
    "            print('Adicionando ' + request + '.')\n",
    "    print('\\nSua pizza está pronta!')        \n",
    "    \n",
    "else:\n",
    "    print('Tem certeza de que quer uma pizza?')"
   ]
  },
  {
   "cell_type": "code",
   "execution_count": 12,
   "metadata": {},
   "outputs": [
    {
     "name": "stdout",
     "output_type": "stream",
     "text": [
      "Adding mushrooms.\n",
      "Sorry, we do not have french fries.\n",
      "Adding extra cheese.\n",
      "\n",
      "Finished making your pizza.\n"
     ]
    }
   ],
   "source": [
    "available_toppings = ['mushrooms', 'olives', 'green peppers',\n",
    "                     'pepperoni', 'pineapple', 'extra cheese']\n",
    "\n",
    "requested_toppings = ['mushrooms', 'french fries', 'extra cheese']\n",
    "\n",
    "if requested_toppings:\n",
    "    for requested in requested_toppings:\n",
    "        if requested in available_toppings:\n",
    "            print('Adding ' + requested + '.')\n",
    "        else:\n",
    "            print('Sorry, we do not have ' + requested + '.')\n",
    "    print('\\nFinished making your pizza.')\n",
    "else:\n",
    "    print('Are you sure you want a plain pizza?')"
   ]
  },
  {
   "cell_type": "code",
   "execution_count": 13,
   "metadata": {},
   "outputs": [
    {
     "name": "stdout",
     "output_type": "stream",
     "text": [
      "Adicionando o ingrediente: mushrooms.\n",
      "Desculpe, não temos o ingrediente french fries.\n",
      "Adicionando o ingrediente: extra cheese.\n",
      "\n",
      "\t ==== Sua pizza foi feita! ===\n"
     ]
    }
   ],
   "source": [
    "if requested_toppings:\n",
    "    for requested in requested_toppings:\n",
    "        if requested in available_toppings:\n",
    "            print('Adicionando o ingrediente: ' + requested + '.')\n",
    "        else:\n",
    "            print('Desculpe, não temos o ingrediente ' + requested + '.')\n",
    "    print('\\n\\t ==== Sua pizza foi feita! ===')\n",
    "else:\n",
    "    print('Tem certeza de que quer a pizza?')"
   ]
  },
  {
   "cell_type": "code",
   "execution_count": null,
   "metadata": {},
   "outputs": [],
   "source": [
    "# faça voce mesmo\n"
   ]
  }
 ],
 "metadata": {
  "kernelspec": {
   "display_name": "Python 3",
   "language": "python",
   "name": "python3"
  },
  "language_info": {
   "codemirror_mode": {
    "name": "ipython",
    "version": 3
   },
   "file_extension": ".py",
   "mimetype": "text/x-python",
   "name": "python",
   "nbconvert_exporter": "python",
   "pygments_lexer": "ipython3",
   "version": "3.7.2"
  }
 },
 "nbformat": 4,
 "nbformat_minor": 2
}
