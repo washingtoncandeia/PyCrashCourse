{
 "cells": [
  {
   "cell_type": "markdown",
   "metadata": {},
   "source": [
    "# Cap.9-Classes\n",
    "\n",
    "## Classes\n",
    "\n",
    "* Programação Orientada a Objetos\n",
    "* Classes Representam Objetos do Mundo Real\n",
    "* Criar objetos a partir de uma Classe: Instanciação\n",
    "\n",
    "Ao se criarem objetos em classes, o importante é observar quais atributos colocar. Os atributos serão usados por várias funções e métodos posteriormente.   \n",
    "\n",
    "> Instanciação - criar um objeto a partir de uma classe.  "
   ]
  },
  {
   "cell_type": "code",
   "execution_count": 1,
   "metadata": {},
   "outputs": [],
   "source": [
    "# dog.py, p.221\n",
    "class Dog():\n",
    "    \"\"\"Uma tentativa simples de modelar um cachorro.\"\"\"\n",
    "    \n",
    "    def __init__(self, name, age):\n",
    "        \"\"\"Inicializa os atributos name e age.\"\"\"\n",
    "        self.name = name\n",
    "        self.age = age\n",
    "    \n",
    "    def sit(self):\n",
    "        \"\"\"Simula um cachorro sentando em resposta a um comando.\"\"\"\n",
    "        print(self.name.title() + \" is now sitting.\")\n",
    "        \n",
    "    def roll_over(self):\n",
    "        \"\"\"Simula um cachorro rolando em resposta a um comando.\"\"\"\n",
    "        print(self.name.title() + \" rolled over!\")"
   ]
  },
  {
   "cell_type": "code",
   "execution_count": 2,
   "metadata": {},
   "outputs": [
    {
     "name": "stdout",
     "output_type": "stream",
     "text": [
      "Jimi is now sitting.\n"
     ]
    }
   ],
   "source": [
    "my_dog = Dog('jimi', 5)\n",
    "\n",
    "my_dog.sit()"
   ]
  },
  {
   "cell_type": "code",
   "execution_count": 3,
   "metadata": {},
   "outputs": [
    {
     "name": "stdout",
     "output_type": "stream",
     "text": [
      "Jimi rolled over!\n"
     ]
    }
   ],
   "source": [
    "my_dog.roll_over()"
   ]
  },
  {
   "cell_type": "markdown",
   "metadata": {},
   "source": [
    "## Métodos\n",
    "\n",
    "Uma função que faz parte de uma classe é um **método**. \n",
    "\n",
    "O método `__init__()` é um método especial que o interpretador Python executa sempre que iniciamos uma nova instância. Depois, é possível observar `self` e mais dois parâmetros. `self` é um parâmetro obrigatório na definição do método, devendo estar antes dos demais parâmetros.  \n",
    "\n",
    "Os outros parâmetros podem ser usados serão os atributos. Atributos são criados com notação de ponto, ou seja, ao se colocar o `self` + **ponto** + _nome do parâmetro_. Isso faz Python reconher os parâmetros através do prefixo `self` e disponibilizá-los para todos os métodos criados para a classe.  \n",
    "\n",
    "> Prefixo `self` cria variáveis da classe que estarão disponíveis para todos os métodos. Para isso, é só utilizar o nome do parâmetro, criado prefixado com o `self`.  \n",
    "\n",
    "Além disso, é possível acessar atributos, bastando para isso, iniciar a instância sob a notação **ponto**, e chamar um dos atributos (por exemplo, `name`).  \n",
    "\n",
    "> É possível acessar atributos com a notação de ponto. Aliás, a notação de ponto é usada para chamar os métodos, também."
   ]
  },
  {
   "cell_type": "code",
   "execution_count": 4,
   "metadata": {},
   "outputs": [
    {
     "data": {
      "text/plain": [
       "5"
      ]
     },
     "execution_count": 4,
     "metadata": {},
     "output_type": "execute_result"
    }
   ],
   "source": [
    "# Acessando atributos\n",
    "my_dog.name\n",
    "my_dog.age"
   ]
  },
  {
   "cell_type": "markdown",
   "metadata": {},
   "source": [
    "### Faça você mesmo, p.225-226"
   ]
  },
  {
   "cell_type": "code",
   "execution_count": 5,
   "metadata": {},
   "outputs": [],
   "source": [
    "# 9.1 - Restaurante\n",
    "class Restaurant():\n",
    "    \"\"\"Cria uma classe que simula um restaurante.\"\"\"\n",
    "    \n",
    "    def __init__(self, restaurant_name, cuisine_type):\n",
    "        \"\"\"Inicializa atributos da classe.\"\"\"\n",
    "        \n",
    "        self.restaurant_name = restaurant_name\n",
    "        self.cuisine_type = cuisine_type\n",
    "        \n",
    "    def describe_restaurant(self):\n",
    "        \"\"\"Descreve o restaurante, através de seu nome e especialidade na cozinha.\"\"\"\n",
    "        print('\\nO nome do restaurante é ' + self.restaurant_name.title() + '.')\n",
    "        print('Sua especialidade é cozinha ' + self.cuisine_type + '.')\n",
    "        \n",
    "    def open_restaurant(self):\n",
    "        \"\"\"Boas vindas do restaurante.\"\"\"\n",
    "        print('\\nSejam bem vindos! O restaurante ' + self.restaurant_name.title() + ' está aberto.')"
   ]
  },
  {
   "cell_type": "code",
   "execution_count": 6,
   "metadata": {},
   "outputs": [],
   "source": [
    "# Instancia:\n",
    "restaurante = Restaurant('roma', 'italiana')"
   ]
  },
  {
   "cell_type": "code",
   "execution_count": 7,
   "metadata": {},
   "outputs": [
    {
     "name": "stdout",
     "output_type": "stream",
     "text": [
      "\n",
      "O nome do restaurante é Roma.\n",
      "Sua especialidade é cozinha italiana.\n"
     ]
    }
   ],
   "source": [
    "restaurante.describe_restaurant()"
   ]
  },
  {
   "cell_type": "code",
   "execution_count": 8,
   "metadata": {},
   "outputs": [
    {
     "name": "stdout",
     "output_type": "stream",
     "text": [
      "\n",
      "Sejam bem vindos! O restaurante Roma está aberto.\n"
     ]
    }
   ],
   "source": [
    "restaurante.open_restaurant()"
   ]
  },
  {
   "cell_type": "code",
   "execution_count": 9,
   "metadata": {},
   "outputs": [],
   "source": [
    "# 9.2 - Três restaurantes\n",
    "rest1 = Restaurant('panela de barro', 'mineira')\n",
    "rest2 = Restaurant('o sertanejo', 'do nordeste')\n",
    "rest3 = Restaurant('beira-rio', 'matogrossense')"
   ]
  },
  {
   "cell_type": "code",
   "execution_count": 10,
   "metadata": {},
   "outputs": [
    {
     "name": "stdout",
     "output_type": "stream",
     "text": [
      "\n",
      "Sejam bem vindos! O restaurante Panela De Barro está aberto.\n",
      "\n",
      "O nome do restaurante é Panela De Barro.\n",
      "Sua especialidade é cozinha mineira.\n"
     ]
    }
   ],
   "source": [
    "rest1.open_restaurant()\n",
    "rest1.describe_restaurant()"
   ]
  },
  {
   "cell_type": "code",
   "execution_count": 11,
   "metadata": {},
   "outputs": [
    {
     "name": "stdout",
     "output_type": "stream",
     "text": [
      "\n",
      "Sejam bem vindos! O restaurante O Sertanejo está aberto.\n",
      "\n",
      "O nome do restaurante é O Sertanejo.\n",
      "Sua especialidade é cozinha do nordeste.\n"
     ]
    }
   ],
   "source": [
    "rest2.open_restaurant()\n",
    "rest2.describe_restaurant()"
   ]
  },
  {
   "cell_type": "code",
   "execution_count": 12,
   "metadata": {},
   "outputs": [
    {
     "name": "stdout",
     "output_type": "stream",
     "text": [
      "\n",
      "Sejam bem vindos! O restaurante Beira-Rio está aberto.\n",
      "\n",
      "O nome do restaurante é Beira-Rio.\n",
      "Sua especialidade é cozinha matogrossense.\n"
     ]
    }
   ],
   "source": [
    "rest3.open_restaurant()\n",
    "rest3.describe_restaurant()"
   ]
  },
  {
   "cell_type": "code",
   "execution_count": 13,
   "metadata": {},
   "outputs": [],
   "source": [
    "# 9.3 - Usuários\n",
    "class User():\n",
    "    \"\"\"Simula a descrição de usuários.\"\"\"\n",
    "    \n",
    "    def __init__(self, first_name, last_name, age, work):\n",
    "        \"\"\"Inicializa os atributos da classe.\"\"\"\n",
    "        \n",
    "        self.first_name = first_name\n",
    "        self.last_name = last_name\n",
    "        self.age = age\n",
    "        self.work = work\n",
    "        \n",
    "    def describe_user(self):\n",
    "        \"\"\"Um método que exibe um resumo das informações do usuário.\"\"\"\n",
    "        \n",
    "        print('\\nO nome do usuário(a) é ' + self.first_name.title() + '.')\n",
    "        print('Seu sobrenome é ' + self.last_name.title() + '.')\n",
    "        print('Sua idade é de ' + str(self.age) + ' anos.')\n",
    "        print('Sua profissão: ' + self.work.title())\n",
    "        \n",
    "    def greet_user(self):\n",
    "        \"\"\"Método para saudar o usuário.\"\"\"\n",
    "        print('\\nOlá, ' + self.first_name.title() + '! Seja bem vindo!')"
   ]
  },
  {
   "cell_type": "code",
   "execution_count": 14,
   "metadata": {},
   "outputs": [],
   "source": [
    "# Instância\n",
    "washington = User('Washington', 'Araujo', 34, 'Biólogo')"
   ]
  },
  {
   "cell_type": "code",
   "execution_count": 15,
   "metadata": {},
   "outputs": [
    {
     "name": "stdout",
     "output_type": "stream",
     "text": [
      "\n",
      "Olá, Washington! Seja bem vindo!\n"
     ]
    }
   ],
   "source": [
    "washington.greet_user()"
   ]
  },
  {
   "cell_type": "code",
   "execution_count": 16,
   "metadata": {},
   "outputs": [
    {
     "name": "stdout",
     "output_type": "stream",
     "text": [
      "\n",
      "O nome do usuário(a) é Washington.\n",
      "Seu sobrenome é Araujo.\n",
      "Sua idade é de 34 anos.\n",
      "Sua profissão: Biólogo\n"
     ]
    }
   ],
   "source": [
    "washington.describe_user()"
   ]
  },
  {
   "cell_type": "markdown",
   "metadata": {},
   "source": [
    "### Trabalhando com classes e instâncias\n",
    "\n",
    "### Classe Car"
   ]
  },
  {
   "cell_type": "code",
   "execution_count": 17,
   "metadata": {},
   "outputs": [],
   "source": [
    "class Car():\n",
    "    \"\"\"Uma tentativa simples de representar um carro.\"\"\"\n",
    "    \n",
    "    def __init__(self, make, model, year):\n",
    "        \"\"\"Inicializa os atributos.\"\"\"\n",
    "        \n",
    "        self.make = make\n",
    "        self.model = model\n",
    "        self.year = year\n",
    "        \n",
    "    def get_descriptive_name(self):\n",
    "        \"\"\"Devolve um nome descritivo.\"\"\"\n",
    "        \n",
    "        long_name = str(self.year) + ' ' + self.make + ' ' + self.model\n",
    "        return long_name"
   ]
  },
  {
   "cell_type": "code",
   "execution_count": 18,
   "metadata": {},
   "outputs": [
    {
     "name": "stdout",
     "output_type": "stream",
     "text": [
      "2016 audi a4\n"
     ]
    }
   ],
   "source": [
    "# Instnacia\n",
    "my_new_car = Car('audi', 'a4', 2016)\n",
    "print(my_new_car.get_descriptive_name())"
   ]
  },
  {
   "cell_type": "markdown",
   "metadata": {},
   "source": [
    "### Definindo um valor default para um atributo"
   ]
  },
  {
   "cell_type": "code",
   "execution_count": 19,
   "metadata": {},
   "outputs": [],
   "source": [
    "class Car():\n",
    "    \n",
    "    def __init__(self, make, model, year):\n",
    "        \n",
    "        self.make = make\n",
    "        self.model = model\n",
    "        self.year = year\n",
    "        self.odometer_reading = 0\n",
    "        \n",
    "        \n",
    "    def get_descriptive_name(self):\n",
    "        \n",
    "        long_name = str(self.year) + ' ' + self.make + ' ' + self.model\n",
    "        return long_name\n",
    "    \n",
    "    def read_odometer(self):\n",
    "        \n",
    "        print('Este carro tem ' + str(self.odometer_reading) + ' em milhagem.')"
   ]
  },
  {
   "cell_type": "code",
   "execution_count": 20,
   "metadata": {},
   "outputs": [
    {
     "name": "stdout",
     "output_type": "stream",
     "text": [
      "2016 audi a4\n",
      "Este carro tem 0 em milhagem.\n"
     ]
    }
   ],
   "source": [
    "# Instancia\n",
    "my_new_car = Car('audi', 'a4', 2016)\n",
    "print(my_new_car.get_descriptive_name())\n",
    "\n",
    "my_new_car.read_odometer()"
   ]
  },
  {
   "cell_type": "markdown",
   "metadata": {},
   "source": [
    "## Modificando valores de atributos\n",
    "### 1. Modificando valor de um atributo diretamente\n",
    "Acessar o atributo diretamente, dando-lhe um novo valor."
   ]
  },
  {
   "cell_type": "code",
   "execution_count": 21,
   "metadata": {},
   "outputs": [
    {
     "name": "stdout",
     "output_type": "stream",
     "text": [
      "2016 audi a4\n",
      "Este carro tem 23 em milhagem.\n"
     ]
    }
   ],
   "source": [
    "my_new_car = Car('audi', 'a4', 2016)\n",
    "print(my_new_car.get_descriptive_name())\n",
    "\n",
    "my_new_car.odometer_reading = 23\n",
    "\n",
    "my_new_car.read_odometer()"
   ]
  },
  {
   "cell_type": "markdown",
   "metadata": {},
   "source": [
    "### 2. Modificando o valor de um atributo com um método\n",
    "Neste caso, você cria um método em que se pode adicionar um valor, e este valor será usado para atualizar o hodometro."
   ]
  },
  {
   "cell_type": "code",
   "execution_count": 22,
   "metadata": {},
   "outputs": [],
   "source": [
    "class Car():\n",
    "    \n",
    "    def __init__(self, make, model, year):\n",
    "        \n",
    "        self.make = make\n",
    "        self.model = model\n",
    "        self.year = year\n",
    "        self.odometer_reading = 0\n",
    "        \n",
    "    def get_descriptive_name(self):\n",
    "        \n",
    "        long_name = str(self.year) + ' ' + self.make + ' ' + self.model\n",
    "        return long_name\n",
    "    \n",
    "    def read_odometer(self):\n",
    "        \n",
    "        print('Este carro tem ' + str(self.odometer_reading) + ' em milhagem.')\n",
    "    \n",
    "    def update_odometer(self, mileage):\n",
    "        \n",
    "        if mileage >= self.odometer_reading:\n",
    "            self.odometer_reading = mileage\n",
    "        \n",
    "        else:\n",
    "            print('\\n\\tVocê não pode baixar o odômetro!')"
   ]
  },
  {
   "cell_type": "code",
   "execution_count": 23,
   "metadata": {},
   "outputs": [],
   "source": [
    "# Instancia\n",
    "my_new_car = Car('audi', 'a4', 2016)"
   ]
  },
  {
   "cell_type": "code",
   "execution_count": 24,
   "metadata": {},
   "outputs": [
    {
     "name": "stdout",
     "output_type": "stream",
     "text": [
      "2016 audi a4\n"
     ]
    }
   ],
   "source": [
    "print(my_new_car.get_descriptive_name())\n",
    "\n",
    "my_new_car.update_odometer(45)"
   ]
  },
  {
   "cell_type": "code",
   "execution_count": 25,
   "metadata": {},
   "outputs": [
    {
     "name": "stdout",
     "output_type": "stream",
     "text": [
      "Este carro tem 45 em milhagem.\n"
     ]
    }
   ],
   "source": [
    "my_new_car.read_odometer()"
   ]
  },
  {
   "cell_type": "markdown",
   "metadata": {},
   "source": [
    "### 3. Incrementeando o valor de um atributo com um método\n",
    "O método acima foi usado de forma em que você insere o valor final do hodômetro.   \n",
    "Mas, é possível criar um método em que - ao invés de fornecer o valor final, a medida em que você insere um determinado valor, o incremento ocorrerá automaticamente. "
   ]
  },
  {
   "cell_type": "code",
   "execution_count": 26,
   "metadata": {},
   "outputs": [],
   "source": [
    "class Car():\n",
    "    \n",
    "    def __init__(self, make, model, year):   \n",
    "        \n",
    "        self.make = make\n",
    "        self.model = model\n",
    "        self.year = year\n",
    "        self.odometer_reading = 0\n",
    "        \n",
    "    def get_descriptive_name(self):  \n",
    "        \n",
    "        long_name = str(self.year) + ' ' + self.make + ' ' + self.model\n",
    "        return long_name\n",
    "    \n",
    "    def read_odometer(self):     \n",
    "        \n",
    "        print('Este carro tem ' + str(self.odometer_reading) + ' em milhagem.')\n",
    "    \n",
    "    def update_odometer(self, mileage): \n",
    "        \n",
    "        if mileage >= self.odometer_reading:\n",
    "            self.odometer_reading = mileage\n",
    "        \n",
    "        else:\n",
    "            print('\\n\\tVocê não pode baixar o odômetro!')\n",
    "            \n",
    "    def increment_odometer(self, miles):  \n",
    "        \n",
    "        self.odometer_reading += miles"
   ]
  },
  {
   "cell_type": "code",
   "execution_count": 27,
   "metadata": {},
   "outputs": [],
   "source": [
    "carro_usado = Car('VW', 'fusca', 1973)"
   ]
  },
  {
   "cell_type": "code",
   "execution_count": 28,
   "metadata": {},
   "outputs": [
    {
     "name": "stdout",
     "output_type": "stream",
     "text": [
      "1973 VW fusca\n"
     ]
    }
   ],
   "source": [
    "print(carro_usado.get_descriptive_name())"
   ]
  },
  {
   "cell_type": "code",
   "execution_count": 29,
   "metadata": {},
   "outputs": [
    {
     "name": "stdout",
     "output_type": "stream",
     "text": [
      "Este carro tem 0 em milhagem.\n"
     ]
    }
   ],
   "source": [
    "carro_usado.read_odometer()"
   ]
  },
  {
   "cell_type": "code",
   "execution_count": 30,
   "metadata": {},
   "outputs": [],
   "source": [
    "carro_usado.update_odometer(10)"
   ]
  },
  {
   "cell_type": "code",
   "execution_count": 31,
   "metadata": {},
   "outputs": [
    {
     "name": "stdout",
     "output_type": "stream",
     "text": [
      "Este carro tem 10 em milhagem.\n"
     ]
    }
   ],
   "source": [
    "carro_usado.read_odometer()"
   ]
  },
  {
   "cell_type": "code",
   "execution_count": 32,
   "metadata": {},
   "outputs": [],
   "source": [
    "carro_usado.increment_odometer(40)"
   ]
  },
  {
   "cell_type": "code",
   "execution_count": 33,
   "metadata": {},
   "outputs": [
    {
     "name": "stdout",
     "output_type": "stream",
     "text": [
      "Este carro tem 50 em milhagem.\n"
     ]
    }
   ],
   "source": [
    "carro_usado.read_odometer()"
   ]
  },
  {
   "cell_type": "markdown",
   "metadata": {},
   "source": [
    "### Faça você mesmo, p.232"
   ]
  },
  {
   "cell_type": "code",
   "execution_count": 34,
   "metadata": {},
   "outputs": [],
   "source": [
    "# 9.4 - Pessoas atendidas\n",
    "\n",
    "##--> 9.1 - Restaurante\n",
    "class Restaurant():\n",
    "    \"\"\"Cria uma classe que simula um restaurante.\"\"\"\n",
    "    \n",
    "    def __init__(self, restaurant_name, cuisine_type):\n",
    "        \"\"\"Inicializa atributos da classe.\"\"\"\n",
    "        \n",
    "        self.restaurant_name = restaurant_name\n",
    "        self.cuisine_type = cuisine_type\n",
    "        self.number_served = 0\n",
    "        \n",
    "    def describe_restaurant(self):\n",
    "        \"\"\"Descreve o restaurante, através de seu nome e especialidade na cozinha.\"\"\"\n",
    "        print('\\nO nome do restaurante é ' + self.restaurant_name.title() + '.')\n",
    "        print('Sua especialidade é cozinha ' + self.cuisine_type + '.')\n",
    "        \n",
    "    def open_restaurant(self):\n",
    "        \"\"\"Boas vindas do restaurante.\"\"\"\n",
    "        print('\\nSejam bem vindos! O restaurante ' + self.restaurant_name.title() + ' está aberto.')\n",
    "        \n",
    "    def set_number_served(self, served):\n",
    "        \"\"\"Modifica o número relativo às pessoas servidas.\"\"\"\n",
    "        \n",
    "        if served >= self.number_served:\n",
    "            self.number_served = served\n",
    "        \n",
    "        else:\n",
    "            print('\\n\\tNão é possível ter servido esse número de pessoas!')\n",
    "    \n",
    "    def increment_number_served(self, number):\n",
    "        \"\"\"Incrementa o número de pessoas servidas a medida em que servem-se refeições.\"\"\"\n",
    "        self.number_served += number\n"
   ]
  },
  {
   "cell_type": "code",
   "execution_count": 35,
   "metadata": {},
   "outputs": [],
   "source": [
    "# Cont.\n",
    "# Instancia\n",
    "restaurante = Restaurant('roma', 'italiana')"
   ]
  },
  {
   "cell_type": "code",
   "execution_count": 36,
   "metadata": {},
   "outputs": [
    {
     "name": "stdout",
     "output_type": "stream",
     "text": [
      "25\n"
     ]
    }
   ],
   "source": [
    "restaurante.number_served = 25\n",
    "print(restaurante.number_served)"
   ]
  },
  {
   "cell_type": "code",
   "execution_count": 37,
   "metadata": {},
   "outputs": [],
   "source": [
    "# Usando métodos\n",
    "# 1. Método que apenas modifica o número\n",
    "restaurante.set_number_served(25)"
   ]
  },
  {
   "cell_type": "code",
   "execution_count": 38,
   "metadata": {},
   "outputs": [
    {
     "name": "stdout",
     "output_type": "stream",
     "text": [
      "25\n"
     ]
    }
   ],
   "source": [
    "print(restaurante.number_served)"
   ]
  },
  {
   "cell_type": "code",
   "execution_count": 39,
   "metadata": {},
   "outputs": [],
   "source": [
    "# 2. Método que incrementa o número\n",
    "restaurante.increment_number_served(25)"
   ]
  },
  {
   "cell_type": "code",
   "execution_count": 40,
   "metadata": {},
   "outputs": [
    {
     "name": "stdout",
     "output_type": "stream",
     "text": [
      "50\n"
     ]
    }
   ],
   "source": [
    "print(restaurante.number_served)"
   ]
  },
  {
   "cell_type": "code",
   "execution_count": 41,
   "metadata": {},
   "outputs": [],
   "source": [
    "# 9.5 - Tentativa de login\n",
    "# 9.3 - Usuários\n",
    "class User():\n",
    "    \"\"\"Simula a descrição de usuários.\"\"\"\n",
    "    \n",
    "    def __init__(self, first_name, last_name, age, work):\n",
    "        \"\"\"Inicializa os atributos da classe.\"\"\"\n",
    "        \n",
    "        self.first_name = first_name\n",
    "        self.last_name = last_name\n",
    "        self.age = age\n",
    "        self.work = work\n",
    "        self.login_attempts = 0\n",
    "        \n",
    "    def describe_user(self):\n",
    "        \"\"\"Um método que exibe um resumo das informações do usuário.\"\"\"\n",
    "        \n",
    "        print('\\nO nome do usuário(a) é ' + self.first_name.title() + '.')\n",
    "        print('Seu sobrenome é ' + self.last_name.title() + '.')\n",
    "        print('Sua idade é de ' + str(self.age) + ' anos.')\n",
    "        print('Sua profissão: ' + self.work.title())\n",
    "        \n",
    "    def greet_user(self):\n",
    "        \"\"\"Método para saudar o usuário.\"\"\"\n",
    "        print('\\nOlá, ' + self.first_name.title() + '! Seja bem vindo!')\n",
    "        \n",
    "    def increment_login_attempts(self, attempts):\n",
    "        \"\"\"Incrementa a contagem de tentativas de login.\"\"\"\n",
    "        self.login_attempts += attempts\n",
    "        print('Tentativas de login: ' + str(self.login_attempts))\n",
    "        \n",
    "    def reset_login_attempts(self):\n",
    "        \"\"\"Reseta a contagem de tentativas de login\"\"\"\n",
    "        self.login_attempts = 0\n",
    "        print('\\nAtenção! Contagem de tentativas de login resetadas.')"
   ]
  },
  {
   "cell_type": "code",
   "execution_count": 42,
   "metadata": {},
   "outputs": [],
   "source": [
    "usuario = User('washington', 'araujo', 34, 'farmacêutico')"
   ]
  },
  {
   "cell_type": "code",
   "execution_count": 43,
   "metadata": {},
   "outputs": [
    {
     "name": "stdout",
     "output_type": "stream",
     "text": [
      "Tentativas de login: 50\n"
     ]
    }
   ],
   "source": [
    "usuario.increment_login_attempts(50)"
   ]
  },
  {
   "cell_type": "code",
   "execution_count": 44,
   "metadata": {},
   "outputs": [
    {
     "name": "stdout",
     "output_type": "stream",
     "text": [
      "\n",
      "Atenção! Contagem de tentativas de login resetadas.\n"
     ]
    }
   ],
   "source": [
    "usuario.reset_login_attempts()"
   ]
  },
  {
   "cell_type": "code",
   "execution_count": 45,
   "metadata": {},
   "outputs": [
    {
     "name": "stdout",
     "output_type": "stream",
     "text": [
      "0\n"
     ]
    }
   ],
   "source": [
    "print(usuario.login_attempts)"
   ]
  },
  {
   "cell_type": "markdown",
   "metadata": {},
   "source": [
    "## Herança\n",
    "**p.232**  \n",
    "\n",
    "Nem sempre é preciso iniciar uma outra classe do zero. Com a OOP é possível planejar classes que forneçam às outras seus atributos e métodos. Para isso, é possível usar o conceito de **herança**. Uma classe pode **herdar** de outra tais funcionalidades, assumindo os atributos e métodos daquela classe anterior.  \n",
    "\n",
    "> **Classe-filha** é a que recebe atributos e métodos de outra classe.  \n",
    "> **Classe-pai** é aquela que fornece estes atributos e métodos.  "
   ]
  },
  {
   "cell_type": "code",
   "execution_count": 46,
   "metadata": {},
   "outputs": [],
   "source": [
    "class Car():\n",
    "    \"\"\"Uma tentativa simples de representar um carro.\"\"\"\n",
    "    \n",
    "    def __init__(self, make, model, year):\n",
    "        \"\"\"Atributos\"\"\"\n",
    "        \n",
    "        self.make = make\n",
    "        self.model = model\n",
    "        self.year = year\n",
    "        self.odometer_reading = 0\n",
    "        self.gas_tank = 0\n",
    "        \n",
    "    def get_descriptive_name(self):\n",
    "        long_name = str(self.year) + ' ' + self.make + ' ' + self.model\n",
    "        return long_name\n",
    "    \n",
    "    def read_odometer(self):\n",
    "        print('This car has ' + str(self.odometer_reading) + ' miles on it.')\n",
    "        \n",
    "    def update_odometer(self, mileage):\n",
    "        if mileage >= self.odometer_reading:\n",
    "            self.odometer_reading = mileage\n",
    "        else:\n",
    "            print(\"You can't roll back an odometer.\")\n",
    "            \n",
    "    def increment_odometer(self, miles):\n",
    "        self.odometer_reading += miles\n",
    "        \n",
    "    def fill_gas_tank(self, gas):\n",
    "        \"\"\"Abastecer o carro com gasolina.\"\"\"\n",
    "        if gas >= self.gas_tank:\n",
    "            self.gas_tank += gas\n",
    "        else:\n",
    "            print(\"You can't fill the gas tank with this.\")\n",
    "        print(\"This car has \" + str(self.gas_tank) + 'L on gas tank.')\n",
    "        \n",
    "\n",
    "class ElectricCar(Car):\n",
    "    \"\"\"Representa aspectos de um carro específicos de veículos elétricos.\"\"\"\n",
    "    \n",
    "    def __init__(self, make, model, year):\n",
    "        \"\"\"Inicializa atributos da classe-pai.\"\"\"\n",
    "        super().__init__(make, model, year)\n",
    "        "
   ]
  },
  {
   "cell_type": "code",
   "execution_count": 47,
   "metadata": {},
   "outputs": [],
   "source": [
    "carro = Car('agile', 'tlz', 2011)"
   ]
  },
  {
   "cell_type": "code",
   "execution_count": 48,
   "metadata": {},
   "outputs": [
    {
     "name": "stdout",
     "output_type": "stream",
     "text": [
      "2011 agile tlz\n"
     ]
    }
   ],
   "source": [
    "print(carro.get_descriptive_name())"
   ]
  },
  {
   "cell_type": "code",
   "execution_count": 49,
   "metadata": {},
   "outputs": [
    {
     "name": "stdout",
     "output_type": "stream",
     "text": [
      "This car has 50L on gas tank.\n"
     ]
    }
   ],
   "source": [
    "carro.fill_gas_tank(50)"
   ]
  },
  {
   "cell_type": "code",
   "execution_count": 50,
   "metadata": {},
   "outputs": [
    {
     "name": "stdout",
     "output_type": "stream",
     "text": [
      "50\n"
     ]
    }
   ],
   "source": [
    "print(carro.gas_tank)"
   ]
  },
  {
   "cell_type": "code",
   "execution_count": 51,
   "metadata": {},
   "outputs": [],
   "source": [
    "my_tesla = ElectricCar('tesla', 'models s', 2016)"
   ]
  },
  {
   "cell_type": "code",
   "execution_count": 52,
   "metadata": {},
   "outputs": [
    {
     "name": "stdout",
     "output_type": "stream",
     "text": [
      "2016 tesla models s\n"
     ]
    }
   ],
   "source": [
    "print(my_tesla.get_descriptive_name())"
   ]
  },
  {
   "cell_type": "markdown",
   "metadata": {},
   "source": [
    "Quando criamos uma clase-filha a clase-pai deve fazer parte do mesmo arquivo (isto pode ser modificado com **_import_**), devendo aparecer antes da classe-filha no arquivo. O nome da classe-pai deve ser incluído nos parênteses da classe-filha, no início de sua criação.  \n",
    "\n",
    "A função `super()` é uma função especial que ajuda Python a criar conexões entre as classes pai e filha. A linha que contém `super()` diz a Python para buscar na classe-pai seu método `__init__()` conferindo todos os atributos da classe-pai para a classe **ElectricCar**.  \n",
    "\n",
    "> A **classe-pai** é a **_superclasse_**, por isso se utiliza super.  \n",
    "> A **classe-filha** é a **_subclasse_**.  \n",
    "\n",
    "### Definindo atributos e métodos da classe-filha  \n",
    "\n",
    "Depois que a classe-filha for criada - herando de uma classe-pai - é possível criar outros atributos e métodos específicos desta classe-filha.   \n",
    "\n",
    "No exemplo abaixo, criaremos um atributo específico de carros elétricos."
   ]
  },
  {
   "cell_type": "code",
   "execution_count": 53,
   "metadata": {},
   "outputs": [],
   "source": [
    "class Car():\n",
    "    \"\"\"Uma tentativa simples de representar um carro.\"\"\"\n",
    "    \n",
    "    def __init__(self, make, model, year):\n",
    "        \"\"\"Atributos\"\"\"\n",
    "        \n",
    "        self.make = make\n",
    "        self.model = model\n",
    "        self.year = year\n",
    "        self.odometer_reading = 0\n",
    "        self.gas_tank = 0\n",
    "        \n",
    "    def get_descriptive_name(self):\n",
    "        long_name = str(self.year) + ' ' + self.make + ' ' + self.model\n",
    "        return long_name\n",
    "    \n",
    "    def read_odometer(self):\n",
    "        print('This car has ' + str(self.odometer_reading) + ' miles on it.')\n",
    "        \n",
    "    def update_odometer(self, mileage):\n",
    "        if mileage >= self.odometer_reading:\n",
    "            self.odometer_reading = mileage\n",
    "        else:\n",
    "            print(\"You can't roll back an odometer.\")\n",
    "            \n",
    "    def increment_odometer(self, miles):\n",
    "        self.odometer_reading += miles\n",
    "        \n",
    "    def fill_gas_tank(self, gas):\n",
    "        \"\"\"Abastecer o carro com gasolina.\"\"\"\n",
    "        if gas >= self.gas_tank:\n",
    "            self.gas_tank += gas\n",
    "        else:\n",
    "            print(\"You can't fill the gas tank with this.\")\n",
    "        print(\"This car has \" + str(self.gas_tank) + 'L on gas tank.')\n",
    "        \n",
    "class ElectricCar(Car):\n",
    "    \"\"\"Representa aspectos de um carro específicos de veículos elétricos.\"\"\"\n",
    "    \n",
    "    def __init__(self, make, model, year):\n",
    "        \"\"\"\n",
    "        Inicializa os atributos da classe-pai.\n",
    "        Em seguida, inicializa os atrubutos específicos de um carro elétrico.\n",
    "        \"\"\"\n",
    "        super().__init__(make, model, year)\n",
    "        self.battery_size = 70\n",
    "        \n",
    "    def describe_battery(self):\n",
    "        \"\"\"Exibe uma frase que descreve a capacidade de uma bateria.\"\"\"\n",
    "        print('Este carro tem uma bateria com ' + str(self.battery_size) + '-kWh de capacidade.')\n",
    "        \n",
    "    def fill_gas_tank(self, gas):\n",
    "        \"\"\"Abastecer o carro com gasolina.\"\"\"\n",
    "        print(\"Este carro não precisa de um tanque de gasolina!\")\n",
    "           "
   ]
  },
  {
   "cell_type": "code",
   "execution_count": 54,
   "metadata": {},
   "outputs": [],
   "source": [
    "eletric = ElectricCar('electrix', 'XXX', 2022)"
   ]
  },
  {
   "cell_type": "code",
   "execution_count": 55,
   "metadata": {},
   "outputs": [
    {
     "name": "stdout",
     "output_type": "stream",
     "text": [
      "Este carro tem uma bateria com 70-kWh de capacidade.\n"
     ]
    }
   ],
   "source": [
    "eletric.describe_battery()"
   ]
  },
  {
   "cell_type": "code",
   "execution_count": 56,
   "metadata": {},
   "outputs": [
    {
     "name": "stdout",
     "output_type": "stream",
     "text": [
      "Este carro não precisa de um tanque de gasolina!\n"
     ]
    }
   ],
   "source": [
    "eletric.fill_gas_tank(50)"
   ]
  },
  {
   "cell_type": "markdown",
   "metadata": {},
   "source": [
    "### Instâncias como atributos\n",
    "\n",
    "Mais uma modificação no nosso código das classes **Car** e e**ElectricCar**.  \n",
    "\n",
    "Agora, iremos adicionar uma nova classe, chamada **Battery** que descreve a bateria de um carro. Após isso, usaremos essa classe em **ElectricCar**, mas sem chamá-la como classe-pai. O que iremos fazer é adicioná-la como uma instância de **ElectricCar**. Porém, esta instãncia será um atributo de **ElectricCar**.   \n",
    "\n",
    "Iremos, então, observar algo diferente do que vimos antes, qual seja, a forma de chamar os métodos que utilizam este atributo. Continuaremos utilizando a **notação de ponto**, porém, é preciso utilizá-la chamando tanto o atributo de **ElectricCar** quanto o método envolvido.  \n",
    "\n",
    "> O **atributo** pode ser a **instância**.  \n",
    "\n",
    "Desta forma, qualquer instância de **ElectricCar** terá uma instância de **Battery** criada automaticamente."
   ]
  },
  {
   "cell_type": "code",
   "execution_count": 57,
   "metadata": {},
   "outputs": [],
   "source": [
    "class Car():\n",
    "    \"\"\"Uma tentativa simples de representar um carro.\"\"\"\n",
    "    \n",
    "    def __init__(self, make, model, year):\n",
    "        \"\"\"Inicializa os atributos que descrevem um carro.\"\"\"\n",
    "        \n",
    "        self.make = make\n",
    "        self.model = model\n",
    "        self.year = year\n",
    "        self.odometer_reading = 0\n",
    "        self.gas_tank = 0\n",
    "        \n",
    "    def get_descriptive_name(self):\n",
    "        long_name = str(self.year) + ' ' + self.make + ' ' + self.model\n",
    "        return long_name\n",
    "    \n",
    "    \n",
    "    def read_odometer(self):\n",
    "        print('This car has ' + str(self.odometer_reading) + ' miles on it.')\n",
    "        \n",
    "        \n",
    "    def update_odometer(self, mileage):\n",
    "        \"\"\"\n",
    "        Define o valor de leitura do hodômetro com o valor especificado.\n",
    "        Rejeita alteração se for tentativa de definir um valor menor para o hodômetro.\n",
    "        \"\"\"\n",
    "        if mileage >= self.odometer_reading:\n",
    "            self.odometer_reading = mileage\n",
    "        else:\n",
    "            print(\"You can't roll back an odometer.\")\n",
    "       \n",
    "    \n",
    "    def increment_odometer(self, miles):\n",
    "        self.odometer_reading += miles\n",
    "        \n",
    "        \n",
    "    def fill_gas_tank(self, gas):\n",
    "        \"\"\"Abastecer o carro com gasolina.\"\"\"\n",
    "        if gas >= self.gas_tank:\n",
    "            self.gas_tank += gas\n",
    "        else:\n",
    "            print(\"You can't fill the gas tank with this.\")\n",
    "        print(\"This car has \" + str(self.gas_tank) + 'L on gas tank.')\n",
    "        \n",
    "        \n",
    "        \n",
    "class Battery():\n",
    "    \"\"\"Uma tentativa simples de modelar uma bateria para um carro elétrico.\"\"\"\n",
    "    \n",
    "    def __init__(self, battery_size=70):\n",
    "        \"\"\"Inicializa os atributos de uma bateria.\"\"\"\n",
    "        self.battery_size = battery_size\n",
    "        \n",
    "        \n",
    "    def describe_battery(self):\n",
    "        \"\"\"Exibe uma frase que descreve a capacidade de uma bateria.\"\"\"\n",
    "        print(\"This car has a \" + str(self.battery_size) + \"-kWh battery.\")\n",
    "        \n",
    "        \n",
    "    def get_range(self):\n",
    "        \"\"\"Exibe uma frase sobre a distância que o carro é capaz de percorrer com essa bateria.\"\"\"\n",
    "        if self.battery_size == 70:\n",
    "            range = 240\n",
    "        elif self.battery_size == 85:\n",
    "            range = 270\n",
    "            \n",
    "        message = 'This car can go approximately ' + str(range)\n",
    "        message += ' miles on a full charge.'\n",
    "        print(message)\n",
    "    \n",
    "        \n",
    "class ElectricCar(Car):\n",
    "    \"\"\"Representa aspectos de um carro específicos de veículos elétricos.\"\"\"\n",
    "    \n",
    "    def __init__(self, make, model, year):\n",
    "        \"\"\"\n",
    "        Inicializa os atributos da classe-pai.\n",
    "        Em seguida, inicializa os atrubutos específicos de um carro elétrico.\n",
    "        \"\"\"\n",
    "        super().__init__(make, model, year)\n",
    "        self.battery = Battery()\n",
    "        \n",
    "        \n",
    "    def fill_gas_tank(self, gas):\n",
    "        \"\"\"Abastecer o carro com gasolina.\"\"\"\n",
    "        print(\"Este carro não precisa de um tanque de gasolina!\")\n",
    "           "
   ]
  },
  {
   "cell_type": "code",
   "execution_count": 58,
   "metadata": {},
   "outputs": [],
   "source": [
    "tesla = ElectricCar('eletrix', 'XXX', 2022)"
   ]
  },
  {
   "cell_type": "code",
   "execution_count": 59,
   "metadata": {},
   "outputs": [
    {
     "name": "stdout",
     "output_type": "stream",
     "text": [
      "This car has a 70-kWh battery.\n"
     ]
    }
   ],
   "source": [
    "tesla.battery.describe_battery()"
   ]
  },
  {
   "cell_type": "code",
   "execution_count": 60,
   "metadata": {},
   "outputs": [
    {
     "name": "stdout",
     "output_type": "stream",
     "text": [
      "This car can go approximately 240 miles on a full charge.\n"
     ]
    }
   ],
   "source": [
    "tesla.battery.get_range()"
   ]
  },
  {
   "cell_type": "markdown",
   "metadata": {},
   "source": [
    "### Faça você mesmo, p.241"
   ]
  },
  {
   "cell_type": "code",
   "execution_count": 61,
   "metadata": {},
   "outputs": [],
   "source": [
    "# 9.6 - Sorveteria\n",
    "##--> 9.1 - Restaurante\n",
    "\n",
    "class Restaurant():\n",
    "    \"\"\"Cria uma classe que simula um restaurante.\"\"\"\n",
    "    \n",
    "    def __init__(self, restaurant_name, cuisine_type):\n",
    "        \"\"\"Inicializa atributos da classe.\"\"\"\n",
    "        \n",
    "        self.restaurant_name = restaurant_name\n",
    "        self.cuisine_type = cuisine_type\n",
    "        \n",
    "    def describe_restaurant(self):\n",
    "        \"\"\"Descreve o restaurante, através de seu nome e especialidade na cozinha.\"\"\"\n",
    "        print('\\nO nome do restaurante é ' + self.restaurant_name.title() + '.')\n",
    "        print('Sua especialidade é cozinha ' + self.cuisine_type + '.')\n",
    "        \n",
    "    def open_restaurant(self):\n",
    "        \"\"\"Boas vindas do restaurante.\"\"\"\n",
    "        print('\\nSejam bem vindos! O restaurante ' + self.restaurant_name.title() + ' está aberto.')\n"
   ]
  },
  {
   "cell_type": "code",
   "execution_count": 62,
   "metadata": {},
   "outputs": [],
   "source": [
    "# 9.6 - Sorveteria (cont..)\n",
    "\n",
    "class IceCreamStand(Restaurant):\n",
    "    \"\"\"Cria uma classe que simula uma sorveteria.\"\"\"\n",
    "    \n",
    "    def __init__(self, restaurant_name, cuisine_type):\n",
    "        \"\"\"Adição de atributos da classe-pai, Restaurant.\"\"\"\n",
    "        \n",
    "        super().__init__(restaurant_name, cuisine_type)\n",
    "        self.flavors = [\n",
    "            'chocolate', 'creme', 'flocos', 'milho-verde',\n",
    "            'cajá', 'limão', 'goiaba', 'morango'\n",
    "        ]\n",
    "    \n",
    "    def show_flavors(self):\n",
    "        \"\"\"Exibe os sabores disponíveis.\"\"\"\n",
    "        \n",
    "        print('\\nOs sabores disponíveis são: ')\n",
    "        for flavor in self.flavors:            \n",
    "            print('- ' + flavor.title())"
   ]
  },
  {
   "cell_type": "code",
   "execution_count": 63,
   "metadata": {},
   "outputs": [],
   "source": [
    "sorveteria = IceCreamStand('raio-de-sol', 'sorveteria')"
   ]
  },
  {
   "cell_type": "code",
   "execution_count": 64,
   "metadata": {},
   "outputs": [
    {
     "name": "stdout",
     "output_type": "stream",
     "text": [
      "\n",
      "O nome do restaurante é Raio-De-Sol.\n",
      "Sua especialidade é cozinha sorveteria.\n"
     ]
    }
   ],
   "source": [
    "sorveteria.describe_restaurant()"
   ]
  },
  {
   "cell_type": "code",
   "execution_count": 65,
   "metadata": {},
   "outputs": [
    {
     "name": "stdout",
     "output_type": "stream",
     "text": [
      "\n",
      "Os sabores disponíveis são: \n",
      "- Chocolate\n",
      "- Creme\n",
      "- Flocos\n",
      "- Milho-Verde\n",
      "- Cajá\n",
      "- Limão\n",
      "- Goiaba\n",
      "- Morango\n"
     ]
    }
   ],
   "source": [
    "sorveteria.show_flavors()"
   ]
  },
  {
   "cell_type": "code",
   "execution_count": 66,
   "metadata": {},
   "outputs": [],
   "source": [
    "# 9.7 - Admin\n",
    "##--> 9.3 - Usuários\n",
    "class User():\n",
    "    \"\"\"Simula a descrição de usuários.\"\"\"\n",
    "    \n",
    "    def __init__(self, first_name, last_name, age, work):\n",
    "        \"\"\"Inicializa os atributos da classe.\"\"\"\n",
    "        \n",
    "        self.first_name = first_name\n",
    "        self.last_name = last_name\n",
    "        self.age = age\n",
    "        self.work = work\n",
    "        self.login_attempts = 0\n",
    "        \n",
    "    def describe_user(self):\n",
    "        \"\"\"Um método que exibe um resumo das informações do usuário.\"\"\"\n",
    "        \n",
    "        print('\\nO nome do usuário(a) é ' + self.first_name.title() + '.')\n",
    "        print('Seu sobrenome é ' + self.last_name.title() + '.')\n",
    "        print('Sua idade é de ' + str(self.age) + ' anos.')\n",
    "        print('Sua profissão: ' + self.work.title())\n",
    "        \n",
    "    def greet_user(self):\n",
    "        \"\"\"Método para saudar o usuário.\"\"\"\n",
    "        print('\\nOlá, ' + self.first_name.title() + '! Seja bem vindo!')\n",
    "        \n",
    "    def increment_login_attempts(self, attempts):\n",
    "        \"\"\"Incrementa a contagem de tentativas de login.\"\"\"\n",
    "        self.login_attempts += attempts\n",
    "        print('Tentativas de login: ' + str(self.login_attempts))\n",
    "        \n",
    "    def reset_login_attempts(self):\n",
    "        \"\"\"Reseta a contagem de tentativas de login\"\"\"\n",
    "        self.login_attempts = 0\n",
    "        print('\\nAtenção! Contagem de tentativas de login resetadas.')"
   ]
  },
  {
   "cell_type": "code",
   "execution_count": 67,
   "metadata": {},
   "outputs": [],
   "source": [
    "# 9.7 - Admin (cont...)\n",
    "##--> 9.3 - Usuários\n",
    "class Admin(User):\n",
    "    \"\"\"Cria uma classe que simula funções de um admnistrador.\"\"\"\n",
    "    \n",
    "    def __init__(self, first_name, last_name, age, work):\n",
    "        \"\"\"Inicializa atributos advindos da classe-pai, User.\"\"\"\n",
    "        super().__init__(first_name, last_name, age, work)\n",
    "        self.privileges = [\n",
    "            'can add post', 'can delete post', 'can ban user',\n",
    "            'can create user', 'can add new admin', 'can burn all'\n",
    "        ]\n",
    "        \n",
    "    def show_privileges(self):\n",
    "        \"\"\"Mostra os privilegios de um administrador.\"\"\"\n",
    "        \n",
    "        print('\\nOs privilegios do admnistrador são: ')\n",
    "        for privilege in self.privileges:\n",
    "            print('-> ' + privilege.title())\n",
    "            "
   ]
  },
  {
   "cell_type": "code",
   "execution_count": 68,
   "metadata": {},
   "outputs": [],
   "source": [
    "admin = Admin('eric','cartman', 9, 'estudante')"
   ]
  },
  {
   "cell_type": "code",
   "execution_count": 69,
   "metadata": {},
   "outputs": [
    {
     "name": "stdout",
     "output_type": "stream",
     "text": [
      "\n",
      "Os privilegios do admnistrador são: \n",
      "-> Can Add Post\n",
      "-> Can Delete Post\n",
      "-> Can Ban User\n",
      "-> Can Create User\n",
      "-> Can Add New Admin\n",
      "-> Can Burn All\n"
     ]
    }
   ],
   "source": [
    "admin.show_privileges()"
   ]
  },
  {
   "cell_type": "code",
   "execution_count": 70,
   "metadata": {},
   "outputs": [
    {
     "name": "stdout",
     "output_type": "stream",
     "text": [
      "\n",
      "O nome do usuário(a) é Eric.\n",
      "Seu sobrenome é Cartman.\n",
      "Sua idade é de 9 anos.\n",
      "Sua profissão: Estudante\n"
     ]
    }
   ],
   "source": [
    "admin.describe_user()"
   ]
  },
  {
   "cell_type": "code",
   "execution_count": 71,
   "metadata": {},
   "outputs": [],
   "source": [
    "# 9.8 - Privileges\n",
    "\n",
    "class Privileges():\n",
    "    \"\"\"Inicia uma classe responsavel por demonstrar os privilegios de um admnistrador.\"\"\"\n",
    "    \n",
    "    def __init__(self):\n",
    "        \"\"\"Inicializa atributos da classe.\"\"\"\n",
    "\n",
    "        self.privileges = [\n",
    "            'can add post', 'can delete post', 'can ban user',\n",
    "            'can create user', 'can add new admin', 'can burn all'\n",
    "        ]\n",
    "    \n",
    "    def show_privileges(self):\n",
    "        \"\"\"Mostra os privilegios de um administrador.\"\"\"\n",
    "        \n",
    "        print('\\nOs privilegios do admnistrador são: ')\n",
    "        for privilege in self.privileges:\n",
    "            print('-> ' + privilege.title())\n",
    "            "
   ]
  },
  {
   "cell_type": "code",
   "execution_count": 72,
   "metadata": {},
   "outputs": [],
   "source": [
    "# 9.8 - Privileges\n",
    "## 9.7 - Admin (cont...)\n",
    "##--> 9.3 - Usuários\n",
    "\n",
    "class Admin(User):\n",
    "    \"\"\"Cria uma classe que simula funções de um admnistrador.\"\"\"\n",
    "    \n",
    "    def __init__(self, first_name, last_name, age, work):\n",
    "        \"\"\"Inicializa atributos advindos da classe-pai, User.\"\"\"\n",
    "        super().__init__(first_name, last_name, age, work)\n",
    "        self.admin_privileges = Privileges()"
   ]
  },
  {
   "cell_type": "code",
   "execution_count": 73,
   "metadata": {},
   "outputs": [],
   "source": [
    "admin = Admin('eric','cartman', 9, 'estudante')"
   ]
  },
  {
   "cell_type": "code",
   "execution_count": 74,
   "metadata": {},
   "outputs": [
    {
     "name": "stdout",
     "output_type": "stream",
     "text": [
      "\n",
      "Os privilegios do admnistrador são: \n",
      "-> Can Add Post\n",
      "-> Can Delete Post\n",
      "-> Can Ban User\n",
      "-> Can Create User\n",
      "-> Can Add New Admin\n",
      "-> Can Burn All\n"
     ]
    }
   ],
   "source": [
    "admin.admin_privileges.show_privileges()"
   ]
  },
  {
   "cell_type": "code",
   "execution_count": 75,
   "metadata": {},
   "outputs": [],
   "source": [
    "# 9.8 - Versão final\n",
    "\n",
    "class User():\n",
    "    \"\"\"Simula a descrição de usuários.\"\"\"\n",
    "    \n",
    "    def __init__(self, first_name, last_name, age, work):\n",
    "        \"\"\"Inicializa os atributos da classe.\"\"\"\n",
    "        \n",
    "        self.first_name = first_name\n",
    "        self.last_name = last_name\n",
    "        self.age = age\n",
    "        self.work = work\n",
    "        self.login_attempts = 0\n",
    "        \n",
    "    def describe_user(self):\n",
    "        \"\"\"Um método que exibe um resumo das informações do usuário.\"\"\"\n",
    "        \n",
    "        print('\\nO nome do usuário(a) é ' + self.first_name.title() + '.')\n",
    "        print('Seu sobrenome é ' + self.last_name.title() + '.')\n",
    "        print('Sua idade é de ' + str(self.age) + ' anos.')\n",
    "        print('Sua profissão: ' + self.work.title())\n",
    "        \n",
    "    def greet_user(self):\n",
    "        \"\"\"Método para saudar o usuário.\"\"\"\n",
    "        print('\\nOlá, ' + self.first_name.title() + '! Seja bem vindo!')\n",
    "        \n",
    "    def increment_login_attempts(self, attempts):\n",
    "        \"\"\"Incrementa a contagem de tentativas de login.\"\"\"\n",
    "        self.login_attempts += attempts\n",
    "        print('Tentativas de login: ' + str(self.login_attempts))\n",
    "        \n",
    "    def reset_login_attempts(self):\n",
    "        \"\"\"Reseta a contagem de tentativas de login\"\"\"\n",
    "        self.login_attempts = 0\n",
    "        print('\\nAtenção! Contagem de tentativas de login resetadas.')\n",
    "        \n",
    "        \n",
    "\n",
    "class Privileges():\n",
    "    \"\"\"Inicia uma classe responsavel por demonstrar os privilegios de um admnistrador.\"\"\"\n",
    "    \n",
    "    def __init__(self):\n",
    "        \"\"\"Inicializa atributos da classe.\"\"\"\n",
    "\n",
    "        self.privileges = [\n",
    "            'can add post', 'can delete post', 'can ban user',\n",
    "            'can create user', 'can add new admin', 'can burn all'\n",
    "        ]\n",
    "    \n",
    "    def show_privileges(self):\n",
    "        \"\"\"Mostra os privilegios de um administrador.\"\"\"\n",
    "        \n",
    "        print('\\nOs privilegios do admnistrador são: ')\n",
    "        for privilege in self.privileges:\n",
    "            print('-> ' + privilege.title())\n",
    "        \n",
    "        \n",
    "\n",
    "class Admin(User):\n",
    "    \"\"\"Cria uma classe que simula funções de um admnistrador.\"\"\"\n",
    "    \n",
    "    def __init__(self, first_name, last_name, age, work):\n",
    "        \"\"\"Inicializa atributos advindos da classe-pai, User.\"\"\"\n",
    "        super().__init__(first_name, last_name, age, work)\n",
    "        self.admin_privileges = Privileges()\n",
    "        "
   ]
  },
  {
   "cell_type": "code",
   "execution_count": 76,
   "metadata": {},
   "outputs": [],
   "source": [
    "admin = Admin('eric','cartman', 9, 'estudante')"
   ]
  },
  {
   "cell_type": "code",
   "execution_count": 77,
   "metadata": {},
   "outputs": [
    {
     "name": "stdout",
     "output_type": "stream",
     "text": [
      "\n",
      "Os privilegios do admnistrador são: \n",
      "-> Can Add Post\n",
      "-> Can Delete Post\n",
      "-> Can Ban User\n",
      "-> Can Create User\n",
      "-> Can Add New Admin\n",
      "-> Can Burn All\n"
     ]
    }
   ],
   "source": [
    "admin.admin_privileges.show_privileges()"
   ]
  },
  {
   "cell_type": "markdown",
   "metadata": {},
   "source": [
    "## Importando Classes\n",
    "\n",
    "Python permite armazenar classes em módulos, que são arquivos **.py** como os códigos em Python. Porém, é possível **importar** o código de módulos em nossos próprios códigos Python. Desta forma, é possível importar as classes necessárias em seu programa Python.  \n",
    "\n",
    "### Importando uma única classe\n",
    "\n",
    "Por exemplo, criar um módulo com uma classe e deixar o arquivo próprio.\n",
    "\n",
    "Para chamar a classe armazenada neste módulo, criaremos um outro arquivo Python. Neste arquivo chamaremos a classe `Car` de uma forma específica, qual seja, utilizando a palavra reservada `import`.  \n",
    "\n",
    "Assim, este arquivo importará a classe `Car` e será possível criar uma instância dessa classe.\n",
    "\n",
    "```python\n",
    "from car import Car\n",
    "\n",
    "my_new_car = Car('vw', 'fusca', 1970)\n",
    "\n",
    "print(my_new_car.get_descriptive_name())\n",
    "my_new_car.odometer_reading = 23\n",
    "\n",
    "my_new_car.read_odometer()\n",
    "my_new_car.increment_odometer(27)\n",
    "my_new_car.read_odometer()\n",
    "```\n",
    "\n",
    "Importar classes torna a programação em Python mais eficiente, pois não precisa escrever uma classe inteira em um arquivo e então começar a utilizar seus métodos e classes. Basta escrever uma classe, armazená-la em algum arquivo e - quando necessário - importar esta classe, métodos, _etc_ em seu código.  \n",
    "\n",
    "### Armazenando várias classes em um módulo\n",
    "\n",
    "Por exemplo, armazenar as três classes criadas para representar um carro.  \n",
    "\n",
    "```python\n",
    "class Car():\n",
    "    \"\"\"Uma tentativa simples de representar um carro.\"\"\"\n",
    "    \n",
    "    def __init__(self, make, model, year):\n",
    "        \"\"\"Inicializa os atributos que descrevem um carro.\"\"\"\n",
    "        \n",
    "        self.make = make\n",
    "        self.model = model\n",
    "        self.year = year\n",
    "        self.odometer_reading = 0\n",
    "        self.gas_tank = 0\n",
    "        \n",
    "    def get_descriptive_name(self):\n",
    "        long_name = str(self.year) + ' ' + self.make + ' ' + self.model\n",
    "        return long_name\n",
    "    \n",
    "    \n",
    "    def read_odometer(self):\n",
    "        print('This car has ' + str(self.odometer_reading) + ' miles on it.')\n",
    "        \n",
    "        \n",
    "    def update_odometer(self, mileage):\n",
    "        \"\"\"\n",
    "        Define o valor de leitura do hodômetro com o valor especificado.\n",
    "        Rejeita alteração se for tentativa de definir um valor menor para o hodômetro.\n",
    "        \"\"\"\n",
    "        if mileage >= self.odometer_reading:\n",
    "            self.odometer_reading = mileage\n",
    "        else:\n",
    "            print(\"You can't roll back an odometer.\")\n",
    "       \n",
    "    \n",
    "    def increment_odometer(self, miles):\n",
    "        self.odometer_reading += miles\n",
    "        \n",
    "        \n",
    "    def fill_gas_tank(self, gas):\n",
    "        \"\"\"Abastecer o carro com gasolina.\"\"\"\n",
    "        if gas >= self.gas_tank:\n",
    "            self.gas_tank += gas\n",
    "        else:\n",
    "            print(\"You can't fill the gas tank with this.\")\n",
    "        print(\"This car has \" + str(self.gas_tank) + 'L on gas tank.')\n",
    "        \n",
    "        \n",
    "        \n",
    "class Battery():\n",
    "    \"\"\"Uma tentativa simples de modelar uma bateria para um carro elétrico.\"\"\"\n",
    "    \n",
    "    def __init__(self, battery_size=70):\n",
    "        \"\"\"Inicializa os atributos de uma bateria.\"\"\"\n",
    "        self.battery_size = battery_size\n",
    "        \n",
    "        \n",
    "    def describe_battery(self):\n",
    "        \"\"\"Exibe uma frase que descreve a capacidade de uma bateria.\"\"\"\n",
    "        print(\"This car has a \" + str(self.battery_size) + \"-kWh battery.\")\n",
    "        \n",
    "        \n",
    "    def get_range(self):\n",
    "        \"\"\"Exibe uma frase sobre a distância que o carro é capaz de percorrer com essa bateria.\"\"\"\n",
    "        if self.battery_size == 70:\n",
    "            range = 240\n",
    "        elif self.battery_size == 85:\n",
    "            range = 270\n",
    "            \n",
    "        message = 'This car can go approximately ' + str(range)\n",
    "        message += ' miles on a full charge.'\n",
    "        print(message)\n",
    "    \n",
    "        \n",
    "class ElectricCar(Car):\n",
    "    \"\"\"Representa aspectos de um carro específicos de veículos elétricos.\"\"\"\n",
    "    \n",
    "    def __init__(self, make, model, year):\n",
    "        \"\"\"\n",
    "        Inicializa os atributos da classe-pai.\n",
    "        Em seguida, inicializa os atrubutos específicos de um carro elétrico.\n",
    "        \"\"\"\n",
    "        super().__init__(make, model, year)\n",
    "        self.battery = Battery()\n",
    "        \n",
    "        \n",
    "    def fill_gas_tank(self, gas):\n",
    "        \"\"\"Abastecer o carro com gasolina.\"\"\"\n",
    "        print(\"Este carro não precisa de um tanque de gasolina!\")\n",
    "\n",
    "```  \n",
    "\n",
    "\n",
    "\n",
    "Isto permite que usemos quaisquer destas classes em nosso código, inclusive, várias delas num mesmo arquivo Python.   \n",
    "\n",
    "\n",
    "\n",
    "```python\n",
    "from car import ElectricCar\n",
    "\n",
    "my_tesla = ElectricCar('tesla', 'model s', 2016)\n",
    "\n",
    "print(my_tesla.get_descriptive_name())\n",
    "my_tesla.battery.describe_battery()\n",
    "my_tesla.battery.get_range()\n",
    "\n",
    "my_tesla.read_odometer()\n",
    "my_tesla.fill_gas_tank(10)\n",
    "\n",
    "my_tesla.update_odometer(50)\n",
    "my_tesla.read_odometer()\n",
    "```\n",
    "\n",
    "### Importando várias classes de um módulo\n",
    "\n",
    "Usando várias classes em um mesmo arquivo de código.\n",
    "\n",
    "```python\n",
    "from car import Car, ElectricCar\n",
    "\n",
    "my_beetle = Car('volkswagen', 'beetle', 2016)\n",
    "print(my_beetle.get_descriptive_name())\n",
    "\n",
    "my_electric = ElectricCar('electrix', 'xxx', 2022)\n",
    "print(my_electric.get_descriptive_name())\n",
    "\n",
    "my_electric.read_odometer()\n",
    "my_electric.increment_odometer(60)\n",
    "my_electric.read_odometer()\n",
    "my_electric.battery.get_range()\n",
    "my_electric.battery.describe_battery()\n",
    "my_electric.fill_gas_tank(75)\n",
    "```\n",
    "\n"
   ]
  }
 ],
 "metadata": {
  "kernelspec": {
   "display_name": "Python 3",
   "language": "python",
   "name": "python3"
  },
  "language_info": {
   "codemirror_mode": {
    "name": "ipython",
    "version": 3
   },
   "file_extension": ".py",
   "mimetype": "text/x-python",
   "name": "python",
   "nbconvert_exporter": "python",
   "pygments_lexer": "ipython3",
   "version": "3.6.4"
  }
 },
 "nbformat": 4,
 "nbformat_minor": 2
}
